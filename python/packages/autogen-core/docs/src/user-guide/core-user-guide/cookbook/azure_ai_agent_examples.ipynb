{
 "cells": [
  {
   "cell_type": "markdown",
   "metadata": {},
   "source": [
    "# AzureAIAgent Usage Examples\n",
    "\n",
    "This notebook demonstrates how to use the `AzureAIAgent` with various tools, including Bing grounding, file search, and code interpreter."
   ]
  },
  {
   "cell_type": "code",
   "execution_count": 1,
   "metadata": {},
   "outputs": [
    {
     "data": {
      "text/plain": [
       "True"
      ]
     },
     "execution_count": 1,
     "metadata": {},
     "output_type": "execute_result"
    }
   ],
   "source": [
    "import asyncio\n",
    "import os\n",
    "from azure.ai.projects.aio import AIProjectClient\n",
    "from azure.identity.aio import DefaultAzureCredential\n",
    "from autogen_agentchat.messages import TextMessage\n",
    "from autogen_core import CancellationToken\n",
    "from autogen_ext.agents.azure._azure_ai_agent import AzureAIAgent\n",
    "import dotenv\n",
    "\n",
    "# Load environment variables\n",
    "dotenv.load_dotenv()"
   ]
  },
  {
   "cell_type": "markdown",
   "metadata": {},
   "source": [
    "## Initialize AzureAIAgent"
   ]
  },
  {
   "cell_type": "code",
   "execution_count": 2,
   "metadata": {},
   "outputs": [],
   "source": [
    "credential = DefaultAzureCredential()\n",
    "project_client = AIProjectClient.from_connection_string(\n",
    "    credential=credential, conn_str=os.getenv(\"AI_PROJECT_CONNECTION_STRING\")\n",
    ")"
   ]
  },
  {
   "cell_type": "markdown",
   "metadata": {},
   "source": [
    "## Example 1: Using Bing Grounding Tool"
   ]
  },
  {
   "cell_type": "code",
   "execution_count": 3,
   "metadata": {},
   "outputs": [
    {
     "name": "stdout",
     "output_type": "stream",
     "text": [
      "Response(chat_message=TextMessage(source='bing_agent', models_usage=None, metadata={}, content=\"Microsoft's annual leave policy, like most companies, can vary based on the employee's role, location, and years of service. However, generally, Microsoft offers a competitive leave policy which typically includes:\\n\\n1. **Vacation Time**: Microsoft often provides generous vacation days, which can increase with tenure. Employees in the U.S., for example, might start with around 15 vacation days per year and have the potential for more as they remain with the company longer.\\n\\n2. **Holidays**: Employees are typically given standard public holidays off. This can vary based on the country of employment.\\n\\n3. **Sick Leave**: Microsoft generally offers paid sick leave to its employees to accommodate health needs.\\n\\n4. **Personal and Family Leave**: Microsoft also offers additional leave options for personal reasons or to care for family members.\\n\\n5. **Maternity and Paternity Leave**: Microsoft has been known to provide substantial maternity and paternity leave, supporting new parents with paid time off.\\n\\n6. **Paid Sabbaticals**: Depending on tenure, some employees may be eligible for a paid sabbatical.\\n\\nThese policies can evolve over time and may differ internationally depending on local laws and company-specific agreements. For the most accurate and specific information, employees or prospective employees should consult Microsoft's HR resources or their employment contract. \\n\\nIf you are considering a job at Microsoft or need detailed and updated information, it might be beneficial to contact them directly or check recent employee reviews on sites like Glassdoor.\", type='TextMessage'), inner_messages=[])\n"
     ]
    }
   ],
   "source": [
    "from azure.ai.projects import models\n",
    "\n",
    "conn = await project_client.connections.get(connection_name=os.getenv(\"BING_CONNECTION_NAME\"))\n",
    "\n",
    "bing_tool = models.BingGroundingTool(conn.id)\n",
    "agent_with_bing_grounding = AzureAIAgent(\n",
    "    name=\"bing_agent\",\n",
    "    description=\"An AI assistant with Bing grounding\",\n",
    "    project_client=project_client,\n",
    "    model=\"gpt-4o\",\n",
    "    instructions=\"You are a helpful assistant.\",\n",
    "    tools=bing_tool.definitions,\n",
    "    metadata={\"source\": \"AzureAIAgent\"},\n",
    ")\n",
    "\n",
    "async def bing_example():\n",
    "    result = await agent_with_bing_grounding.on_messages(\n",
    "        messages=[TextMessage(content=\"What is Microsoft's annual leave policy?\", source=\"user\")],\n",
    "        cancellation_token=CancellationToken(),\n",
    "        message_limit=5\n",
    "    )\n",
    "    print(result)\n",
    "\n",
    "await bing_example()"
   ]
  },
  {
   "cell_type": "markdown",
   "metadata": {},
   "source": [
    "## Example 2: Using File Search Tool"
   ]
  },
  {
   "cell_type": "code",
   "execution_count": 4,
   "metadata": {},
   "outputs": [
    {
     "name": "stdout",
     "output_type": "stream",
     "text": [
      "Response(chat_message=TextMessage(source='file_search_agent', models_usage=None, metadata={}, content='I found information about a Contoso product called SmartView Glasses, which belongs to the Contoso Galaxy Innovations brand. This product falls under the category of Smart Eyewear and offers features such as:\\n\\n- Augmented Reality interface\\n- Voice-controlled AI assistant\\n- HD video recording with 3D audio\\n- UV protection and blue light filtering\\n- Wireless charging with extended battery life【4:0†source】.', type='TextMessage'), inner_messages=[])\n"
     ]
    }
   ],
   "source": [
    "agent_with_file_search = AzureAIAgent(\n",
    "    name=\"file_search_agent\",\n",
    "    description=\"An AI assistant with file search capabilities\",\n",
    "    project_client=project_client,\n",
    "    model=\"gpt-4o\",\n",
    "    instructions=\"You are a helpful assistant.\",\n",
    "    tools=[\"file_search\"],\n",
    "    metadata={\"source\": \"AzureAIAgent\"},\n",
    ")\n",
    "\n",
    "async def file_search_example():\n",
    "    await agent_with_file_search.on_upload_for_file_search(\n",
    "        file_paths=[\"/workspaces/autogen/python/packages/autogen-core/docs/src/user-guide/core-user-guide/cookbook/data/product_info_1.md\"],\n",
    "        vector_store_name=\"file_upload_index\",\n",
    "        vector_store_metadata={\"source\": \"AzureAIAgent\"},\n",
    "        cancellation_token=CancellationToken(),\n",
    "    )\n",
    "    result = await agent_with_file_search.on_messages(\n",
    "        messages=[TextMessage(content=\"Hello, what Contoso products do you know?\", source=\"user\")],\n",
    "        cancellation_token=CancellationToken(),\n",
    "        message_limit=5\n",
    "    )\n",
    "    print(result)\n",
    "\n",
    "await file_search_example()"
   ]
  },
  {
   "cell_type": "markdown",
   "metadata": {},
   "source": [
    "## Example 3: Using Code Interpreter Tool"
   ]
  },
  {
   "cell_type": "code",
   "execution_count": 5,
   "metadata": {},
   "outputs": [
    {
     "name": "stdout",
     "output_type": "stream",
     "text": [
      "Response(chat_message=TextMessage(source='code_interpreter_agent', models_usage=None, metadata={}, content='Here is the markdown table showing the number of stocks per industry:\\n\\n```markdown\\n| Industry                            |   Number of Stocks |\\n|:------------------------------------|-------------------:|\\n| PHARMACEUTICALS                     |                 33 |\\n| BANKS                               |                 28 |\\n| AUTO PARTS & EQUIPMENT              |                 20 |\\n| IT CONSULTING & SOFTWARE            |                 19 |\\n| SPECIALTY CHEMICALS                 |                 18 |\\n| FINANCE (INCLUDING NBFCS)           |                 17 |\\n| ELECTRIC UTILITIES                  |                 14 |\\n| INTERNET SOFTWARE & SERVICES        |                 14 |\\n| CEMENT & CEMENT PRODUCTS            |                 13 |\\n| REALTY                              |                 11 |\\n| IRON & STEEL/INTERM.PRODUCTS        |                  9 |\\n| HEAVY ELECTRICAL EQUIPMENT          |                  9 |\\n| PERSONAL PRODUCTS                   |                  9 |\\n| INDUSTRIAL MACHINERY                |                  9 |\\n| OTHER ELECTRICAL EQUIPMENT/PRODUCTS |                  9 |\\n| CONSTRUCTION & ENGINEERING          |                  8 |\\n| HEALTHCARE FACILITIES               |                  8 |\\n| HOUSING FINANCE                     |                  8 |\\n| FURNITURE-FURNISHING-PAINTS         |                  7 |\\n| CONSUMER ELECTRONICS                |                  7 |\\n| AGROCHEMICALS                       |                  7 |\\n| HOLDING COMPANIES                   |                  7 |\\n| COMMERCIAL VEHICLES                 |                  6 |\\n| OTHER INDUSTRIAL PRODUCTS           |                  6 |\\n| COMMODITY CHEMICALS                 |                  6 |\\n| FERTILIZERS                         |                  6 |\\n| OTHER APPARELS & ACCESSORIES        |                  6 |\\n| TEXTILES                            |                  6 |\\n| UTILITIES                           |                  6 |\\n| PACKAGED FOODS                      |                  6 |\\n| HOTELS                              |                  5 |\\n| OTHER FINANCIAL SERVICES            |                  5 |\\n| RESTAURANTS                         |                  5 |\\n| LIFE INSURANCE                      |                  5 |\\n| DEPARTMENT STORES                   |                  5 |\\n| OTHER INDUSTRIAL GOODS              |                  5 |\\n| DEFENCE                             |                  5 |\\n| GENERAL INSURANCE                   |                  4 |\\n| BROADCASTING & CABLE TV             |                  4 |\\n| REFINERIES/PETRO-PRODUCTS           |                  4 |\\n| FOOTWEAR                            |                  4 |\\n| 2/3 WHEELERS                        |                  4 |\\n| PLASTIC PRODUCTS                    |                  4 |\\n| AUTO TYRES & RUBBER PRODUCTS        |                  4 |\\n| OIL MARKETING & DISTRIBUTION        |                  4 |\\n| ROADS & HIGHWAYS                    |                  3 |\\n| EDIBLE OILS                         |                  3 |\\n| ASSET MANAGEMENT COS.               |                  3 |\\n| BREWERIES & DISTILLERIES            |                  3 |\\n| GEMS & JEWELLERY                    |                  3 |\\n| COMMODITY TRADING  & DISTRIBUTION   |                  3 |\\n| EXCHANGE                            |                  3 |\\n| ALUMINIUM AND ALUMINIUM PRODUCTS    |                  3 |\\n| CAPITAL MARKETS                     |                  3 |\\n| BPO/KPO                             |                  3 |\\n| IRON & STEEL PRODUCTS               |                  3 |\\n| SUGAR                               |                  3 |\\n| TELECOM SERVICES                    |                  3 |\\n| MARINE PORT & SERVICES              |                  3 |\\n| OTHER TELECOM SERVICES              |                  3 |\\n| TRANSPORTATION - LOGISTICS          |                  3 |\\n| HEALTHCARE SERVICES                 |                  3 |\\n| BIOTECHNOLOGY                       |                  2 |\\n| HOUSEWARE                           |                  2 |\\n| PAPER & PAPER PRODUCTS              |                  2 |\\n| HEALTHCARE SUPPLIES                 |                  2 |\\n| TEA & COFFEE                        |                  2 |\\n| TRAVEL SUPPORT SERVICES             |                  2 |\\n| SPECIALTY RETAIL                    |                  2 |\\n| EXPLORATION & PRODUCTION            |                  2 |\\n| CONTAINERS & PACKAGING              |                  2 |\\n| CARS & UTILITY VEHICLES             |                  2 |\\n| MISC. COMMERCIAL SERVICES           |                  2 |\\n| CONSULTING SERVICES                 |                  2 |\\n| SHIPPING                            |                  2 |\\n| TELECOM CABLES                      |                  2 |\\n| CIGARETTES-TOBACCO PRODUCTS         |                  2 |\\n| OTHER FOOD PRODUCTS                 |                  2 |\\n| INDUSTRIAL GASES                    |                  1 |\\n| IT SOFTWARE PRODUCTS                |                  1 |\\n| INTERNET & CATALOGUE RETAIL         |                  1 |\\n| DATA PROCESSING SERVICES            |                  1 |\\n| MINING                              |                  1 |\\n| COPPER                              |                  1 |\\n| CARBON BLACK                        |                  1 |\\n| INVESTMENT COMPANIES                |                  1 |\\n| NON-ALCOHOLIC BEVERAGES             |                  1 |\\n| ZINC                                |                  1 |\\n| PETROCHEMICALS                      |                  1 |\\n| FOREST PRODUCTS                     |                  1 |\\n| COAL                                |                  1 |\\n| WAREHOUSING AND LOGISTICS           |                  1 |\\n| HOUSEHOLD APPLIANCES                |                  1 |\\n| AIRLINES                            |                  1 |\\n| DIVERSIFIED                         |                  1 |\\n| TELECOM EQUIPMENT                   |                  1 |\\n| MOVIES & ENTERTAINMENT              |                  1 |\\n```\\n\\nThis table shows the number of stocks in each industry from the dataset you provided.', type='TextMessage'), inner_messages=[])\n"
     ]
    }
   ],
   "source": [
    "agent_with_code_interpreter = AzureAIAgent(\n",
    "    name=\"code_interpreter_agent\",\n",
    "    description=\"An AI assistant with code interpreter capabilities\",\n",
    "    project_client=project_client,\n",
    "    model=\"gpt-4o\",\n",
    "    agent_id=\"asst_LZ0La6Y9LWi2KxAnsrUjRNFw\",\n",
    "    instructions=\"You are a helpful assistant.\",\n",
    "    tools=[\"code_interpreter\"],\n",
    "    metadata={\"source\": \"AzureAIAgent\"},\n",
    ")\n",
    "\n",
    "async def code_interpreter_example():\n",
    "    await agent_with_code_interpreter.on_upload_for_code_interpreter(\n",
    "        file_paths=\"/workspaces/autogen/python/packages/autogen-core/docs/src/user-guide/core-user-guide/cookbook/data/nifty_500_quarterly_results.csv\",\n",
    "        cancellation_token=CancellationToken()\n",
    "    )\n",
    "    result = await agent_with_code_interpreter.on_messages(\n",
    "        messages=[TextMessage(content=\"Aggregate the number of stocks per industry and give me a markdown table as a result?\", source=\"user\")],\n",
    "        cancellation_token=CancellationToken()\n",
    "    )\n",
    "    print(result)\n",
    "\n",
    "await code_interpreter_example()"
   ]
  }
 ],
 "metadata": {
  "kernelspec": {
   "display_name": ".venv",
   "language": "python",
   "name": "python3"
  },
  "language_info": {
   "codemirror_mode": {
    "name": "ipython",
    "version": 3
   },
   "file_extension": ".py",
   "mimetype": "text/x-python",
   "name": "python",
   "nbconvert_exporter": "python",
   "pygments_lexer": "ipython3",
   "version": "3.10.12"
  }
 },
 "nbformat": 4,
 "nbformat_minor": 2
}
