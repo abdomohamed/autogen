{
 "cells": [
  {
   "cell_type": "markdown",
   "metadata": {},
   "source": [
    "# AzureAIAgent Usage Examples\n",
    "\n",
    "This notebook demonstrates how to use the `AzureAIAgent` with various tools, including Bing grounding, file search, and code interpreter."
   ]
  },
  {
   "cell_type": "code",
   "execution_count": 2,
   "metadata": {},
   "outputs": [
    {
     "data": {
      "text/plain": [
       "True"
      ]
     },
     "execution_count": 2,
     "metadata": {},
     "output_type": "execute_result"
    }
   ],
   "source": [
    "import asyncio\n",
    "import os\n",
    "from azure.ai.projects.aio import AIProjectClient\n",
    "from azure.identity.aio import DefaultAzureCredential\n",
    "from autogen_agentchat.messages import TextMessage\n",
    "from autogen_core import CancellationToken\n",
    "from autogen_ext.agents.azure._azure_ai_agent import AzureAIAgent\n",
    "import dotenv\n",
    "\n",
    "# Load environment variables\n",
    "dotenv.load_dotenv()"
   ]
  },
  {
   "cell_type": "markdown",
   "metadata": {},
   "source": [
    "## Initialize AzureAIAgent"
   ]
  },
  {
   "cell_type": "code",
   "execution_count": 3,
   "metadata": {},
   "outputs": [],
   "source": [
    "credential = DefaultAzureCredential()\n",
    "project_client = AIProjectClient.from_connection_string(\n",
    "    credential=credential, conn_str=os.getenv(\"AI_PROJECT_CONNECTION_STRING\")\n",
    ")"
   ]
  },
  {
   "cell_type": "markdown",
   "metadata": {},
   "source": [
    "## Example 1: Using Bing Grounding Tool"
   ]
  },
  {
   "cell_type": "code",
   "execution_count": 18,
   "metadata": {},
   "outputs": [
    {
     "name": "stdout",
     "output_type": "stream",
     "text": [
      "Response(chat_message=TextMessage(source='bing_agent', models_usage=None, metadata={}, content=\"Microsoft's annual leave policy typically includes a combination of vacation days, sick leave, and other types of leave for their employees. However, the specifics can vary depending on the country, state, and individual employment contracts. Here's a general overview based on their usual practices in the United States:\\n\\n1. **Vacation Leave**: Microsoft offers a generous vacation policy, often starting at around 15 days (3 weeks) per year for new employees, with increases based on years of service.\\n\\n2. **Sick Leave**: Employees are provided with separate sick leave allowances.\\n\\n3. **Holidays**: Microsoft also observes public holidays, giving employees additional days off during the year.\\n\\n4. **Personal Days**: Some Microsoft employees have access to personal days, which can be used for personal matters.\\n\\n5. **Parental Leave**: Microsoft offers parental leave, which includes weeks of paid leave for new parents.\\n\\n6. **Other Types of Leave**: These might include leave for volunteering, bereavement, and additional unpaid leave for various personal needs.\\n\\nIt's important to note that specific details can change, and benefits are often tailored to local laws and regulations. For the most current information, especially if you are considering a role at Microsoft or are a current employee, it's best to check their internal policies or contact their HR department.\", type='TextMessage'), inner_messages=[])\n"
     ]
    }
   ],
   "source": [
    "from azure.ai.projects import models\n",
    "\n",
    "conn = await project_client.connections.get(connection_name=os.getenv(\"BING_CONNECTION_NAME\"))\n",
    "\n",
    "bing_tool = models.BingGroundingTool(conn.id)\n",
    "agent_with_bing_grounding = AzureAIAgent(\n",
    "    name=\"bing_agent\",\n",
    "    description=\"An AI assistant with Bing grounding\",\n",
    "    project_client=project_client,\n",
    "    model=\"gpt-4o\",\n",
    "    instructions=\"You are a helpful assistant.\",\n",
    "    tools=bing_tool.definitions,\n",
    "    metadata={\"source\": \"AzureAIAgent\"},\n",
    ")\n",
    "\n",
    "async def bing_example():\n",
    "    result = await agent_with_bing_grounding.on_messages(\n",
    "        messages=[TextMessage(content=\"What is Microsoft's annual leave policy?\", source=\"user\")],\n",
    "        cancellation_token=CancellationToken(),\n",
    "        message_limit=5\n",
    "    )\n",
    "    print(result)\n",
    "\n",
    "await bing_example()"
   ]
  },
  {
   "cell_type": "markdown",
   "metadata": {},
   "source": [
    "## Example 2: Using File Search Tool"
   ]
  },
  {
   "cell_type": "code",
   "execution_count": 10,
   "metadata": {},
   "outputs": [
    {
     "name": "stdout",
     "output_type": "stream",
     "text": [
      "Response(chat_message=TextMessage(source='file_search_agent', models_usage=None, metadata={}, content='One of the Contoso products is the \"SmartView Glasses\" from Contoso Galaxy Innovations. These smart eyewear glasses have features such as an augmented reality interface, a voice-controlled AI assistant, HD video recording with 3D audio, UV protection, blue light filtering, and wireless charging with an extended battery life【4:0†source】.', type='TextMessage'), inner_messages=[])\n"
     ]
    }
   ],
   "source": [
    "agent_with_file_search = AzureAIAgent(\n",
    "    name=\"file_search_agent\",\n",
    "    description=\"An AI assistant with file search capabilities\",\n",
    "    project_client=project_client,\n",
    "    model=\"gpt-4o\",\n",
    "    instructions=\"You are a helpful assistant.\",\n",
    "    tools=[\"file_search\"],\n",
    "    metadata={\"source\": \"AzureAIAgent\"},\n",
    ")\n",
    "\n",
    "async def file_search_example():\n",
    "    await agent_with_file_search.on_upload_for_file_search(\n",
    "        file_paths=[\"/workspaces/autogen/python/packages/autogen-core/docs/src/user-guide/core-user-guide/cookbook/data/product_info_1.md\"],\n",
    "        vector_store_name=\"file_upload_index\",\n",
    "        vector_store_metadata={\"source\": \"AzureAIAgent\"},\n",
    "        cancellation_token=CancellationToken(),\n",
    "    )\n",
    "    result = await agent_with_file_search.on_messages(\n",
    "        messages=[TextMessage(content=\"Hello, what Contoso products do you know?\", source=\"user\")],\n",
    "        cancellation_token=CancellationToken(),\n",
    "        message_limit=5\n",
    "    )\n",
    "    print(result)\n",
    "\n",
    "await file_search_example()"
   ]
  },
  {
   "cell_type": "markdown",
   "metadata": {},
   "source": [
    "## Example 3: Using Code Interpreter Tool"
   ]
  },
  {
   "cell_type": "code",
   "execution_count": 9,
   "metadata": {},
   "outputs": [
    {
     "name": "stdout",
     "output_type": "stream",
     "text": [
      "Response(chat_message=TextMessage(source='code_interpreter_agent', models_usage=None, metadata={}, content='Here is the markdown table showing the number of stocks per industry:\\n\\n```markdown\\n| Industry                            |   Number of Stocks |\\n|:------------------------------------|-------------------:|\\n| PHARMACEUTICALS                     |                 33 |\\n| BANKS                               |                 28 |\\n| AUTO PARTS & EQUIPMENT              |                 20 |\\n| IT CONSULTING & SOFTWARE            |                 19 |\\n| SPECIALTY CHEMICALS                 |                 18 |\\n| FINANCE (INCLUDING NBFCS)           |                 17 |\\n| ELECTRIC UTILITIES                  |                 14 |\\n| INTERNET SOFTWARE & SERVICES        |                 14 |\\n| CEMENT & CEMENT PRODUCTS            |                 13 |\\n| REALTY                              |                 11 |\\n| IRON & STEEL/INTERM.PRODUCTS        |                  9 |\\n| HEAVY ELECTRICAL EQUIPMENT          |                  9 |\\n| PERSONAL PRODUCTS                   |                  9 |\\n| INDUSTRIAL MACHINERY                |                  9 |\\n| OTHER ELECTRICAL EQUIPMENT/PRODUCTS |                  9 |\\n| CONSTRUCTION & ENGINEERING          |                  8 |\\n| HEALTHCARE FACILITIES               |                  8 |\\n| HOUSING FINANCE                     |                  8 |\\n| FURNITURE-FURNISHING-PAINTS         |                  7 |\\n| CONSUMER ELECTRONICS                |                  7 |\\n| AGROCHEMICALS                       |                  7 |\\n| HOLDING COMPANIES                   |                  7 |\\n| COMMERCIAL VEHICLES                 |                  6 |\\n| OTHER INDUSTRIAL PRODUCTS           |                  6 |\\n| COMMODITY CHEMICALS                 |                  6 |\\n| FERTILIZERS                         |                  6 |\\n| OTHER APPARELS & ACCESSORIES        |                  6 |\\n| TEXTILES                            |                  6 |\\n| UTILITIES                           |                  6 |\\n| PACKAGED FOODS                      |                  6 |\\n| HOTELS                              |                  5 |\\n| OTHER FINANCIAL SERVICES            |                  5 |\\n| RESTAURANTS                         |                  5 |\\n| LIFE INSURANCE                      |                  5 |\\n| DEPARTMENT STORES                   |                  5 |\\n| OTHER INDUSTRIAL GOODS              |                  5 |\\n| DEFENCE                             |                  5 |\\n| GENERAL INSURANCE                   |                  4 |\\n| BROADCASTING & CABLE TV             |                  4 |\\n| REFINERIES/PETRO-PRODUCTS           |                  4 |\\n| FOOTWEAR                            |                  4 |\\n| 2/3 WHEELERS                        |                  4 |\\n| PLASTIC PRODUCTS                    |                  4 |\\n| AUTO TYRES & RUBBER PRODUCTS        |                  4 |\\n| OIL MARKETING & DISTRIBUTION        |                  4 |\\n| ROADS & HIGHWAYS                    |                  3 |\\n| EDIBLE OILS                         |                  3 |\\n| ASSET MANAGEMENT COS.               |                  3 |\\n| BREWERIES & DISTILLERIES            |                  3 |\\n| GEMS & JEWELLERY                    |                  3 |\\n| COMMODITY TRADING  & DISTRIBUTION   |                  3 |\\n| EXCHANGE                            |                  3 |\\n| ALUMINIUM AND ALUMINIUM PRODUCTS    |                  3 |\\n| CAPITAL MARKETS                     |                  3 |\\n| BPO/KPO                             |                  3 |\\n| IRON & STEEL PRODUCTS               |                  3 |\\n| SUGAR                               |                  3 |\\n| TELECOM SERVICES                    |                  3 |\\n| MARINE PORT & SERVICES              |                  3 |\\n| OTHER TELECOM SERVICES              |                  3 |\\n| TRANSPORTATION - LOGISTICS          |                  3 |\\n| HEALTHCARE SERVICES                 |                  3 |\\n| BIOTECHNOLOGY                       |                  2 |\\n| HOUSEWARE                           |                  2 |\\n| PAPER & PAPER PRODUCTS              |                  2 |\\n| HEALTHCARE SUPPLIES                 |                  2 |\\n| TEA & COFFEE                        |                  2 |\\n| TRAVEL SUPPORT SERVICES             |                  2 |\\n| SPECIALTY RETAIL                    |                  2 |\\n| EXPLORATION & PRODUCTION            |                  2 |\\n| CONTAINERS & PACKAGING              |                  2 |\\n| CARS & UTILITY VEHICLES             |                  2 |\\n| MISC. COMMERCIAL SERVICES           |                  2 |\\n| CONSULTING SERVICES                 |                  2 |\\n| SHIPPING                            |                  2 |\\n| TELECOM CABLES                      |                  2 |\\n| CIGARETTES-TOBACCO PRODUCTS         |                  2 |\\n| OTHER FOOD PRODUCTS                 |                  2 |\\n| INDUSTRIAL GASES                    |                  1 |\\n| IT SOFTWARE PRODUCTS                |                  1 |\\n| INTERNET & CATALOGUE RETAIL         |                  1 |\\n| DATA PROCESSING SERVICES            |                  1 |\\n| MINING                              |                  1 |\\n| COPPER                              |                  1 |\\n| CARBON BLACK                        |                  1 |\\n| INVESTMENT COMPANIES                |                  1 |\\n| NON-ALCOHOLIC BEVERAGES             |                  1 |\\n| ZINC                                |                  1 |\\n| PETROCHEMICALS                      |                  1 |\\n| FOREST PRODUCTS                     |                  1 |\\n| COAL                                |                  1 |\\n| WAREHOUSING AND LOGISTICS           |                  1 |\\n| HOUSEHOLD APPLIANCES                |                  1 |\\n| AIRLINES                            |                  1 |\\n| DIVERSIFIED                         |                  1 |\\n| TELECOM EQUIPMENT                   |                  1 |\\n| MOVIES & ENTERTAINMENT              |                  1 |\\n```\\n\\nThis table lists industries and how many stocks are associated with each.', type='TextMessage'), inner_messages=[])\n"
     ]
    }
   ],
   "source": [
    "agent_with_code_interpreter = AzureAIAgent(\n",
    "    name=\"code_interpreter_agent\",\n",
    "    description=\"An AI assistant with code interpreter capabilities\",\n",
    "    project_client=project_client,\n",
    "    model=\"gpt-4o\",\n",
    "    agent_id=\"asst_LZ0La6Y9LWi2KxAnsrUjRNFw\",\n",
    "    instructions=\"You are a helpful assistant.\",\n",
    "    tools=[\"code_interpreter\"],\n",
    "    metadata={\"source\": \"AzureAIAgent\"},\n",
    ")\n",
    "\n",
    "async def code_interpreter_example():\n",
    "    await agent_with_code_interpreter.on_upload_for_code_interpreter(\n",
    "        file_paths=\"/workspaces/autogen/python/packages/autogen-core/docs/src/user-guide/core-user-guide/cookbook/data/nifty_500_quarterly_results.csv\",\n",
    "        cancellation_token=CancellationToken()\n",
    "    )\n",
    "    result = await agent_with_code_interpreter.on_messages(\n",
    "        messages=[TextMessage(content=\"Aggregate the number of stocks per industry and give me a markdown table as a result?\", source=\"user\")],\n",
    "        cancellation_token=CancellationToken()\n",
    "    )\n",
    "    print(result)\n",
    "\n",
    "await code_interpreter_example()"
   ]
  }
 ],
 "metadata": {
  "kernelspec": {
   "display_name": ".venv",
   "language": "python",
   "name": "python3"
  },
  "language_info": {
   "codemirror_mode": {
    "name": "ipython",
    "version": 3
   },
   "file_extension": ".py",
   "mimetype": "text/x-python",
   "name": "python",
   "nbconvert_exporter": "python",
   "pygments_lexer": "ipython3",
   "version": "3.10.12"
  }
 },
 "nbformat": 4,
 "nbformat_minor": 2
}
