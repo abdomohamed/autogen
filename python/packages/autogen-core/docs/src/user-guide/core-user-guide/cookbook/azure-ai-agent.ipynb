{
 "cells": [
  {
   "cell_type": "markdown",
   "metadata": {},
   "source": [
    "# Azure AI Agent\n",
    "\n",
    "Azure AI [Agent Service] (https://learn.microsoft.com/en-us/azure/ai-services/agents/quickstart?pivots=programming-language-python-openai) allows you to create AI agents tailored to your needs through custom instructions and augmented by advanced tools like code interpreter, and custom functions.\n",
    "\n",
    "## Message Protocol\n",
    "First, we need to specify the message protocol for the agent backed by \n",
    "Azure AI Assistant Agent. The message protocol defines the structure of messages\n",
    "handled and published by the agent. \n",
    "For illustration, we define a simple\n",
    "message protocol of 4 message types: `Message`, `Reset`, `UploadForCodeInterpreter` and `UploadForFileSearch`."
   ]
  },
  {
   "cell_type": "code",
   "execution_count": null,
   "metadata": {},
   "outputs": [],
   "source": [
    "from dataclasses import dataclass\n",
    "\n",
    "\n",
    "@dataclass\n",
    "class TextMessage:\n",
    "    content: str\n",
    "    source: str\n",
    "\n",
    "\n",
    "@dataclass\n",
    "class Reset:\n",
    "    pass\n",
    "\n",
    "\n",
    "@dataclass\n",
    "class UploadForCodeInterpreter:\n",
    "    file_path: str\n",
    "\n",
    "\n",
    "@dataclass\n",
    "class UploadForFileSearch:\n",
    "    file_path: str\n",
    "    vector_store_id: str"
   ]
  },
  {
   "cell_type": "markdown",
   "metadata": {},
   "source": [
    "The `TextMessage` message type is used to communicate with the agent. It has a\n",
    "`content` field that contains the message content, and a `source` field\n",
    "for the sender. The `Reset` message type is a control message that resets\n",
    "the memory of the agent. It has no fields. This is useful when we need to\n",
    "start a new conversation with the agent.\n",
    "\n",
    "The `UploadForCodeInterpreter` message type is used to upload data files\n",
    "for the code interpreter and `UploadForFileSearch` message type is used to upload\n",
    "documents for file search. Both message types have a `file_path` field that contains\n",
    "the local path to the file to be uploaded.\n",
    "\n",
    "## Defining the Agent\n",
    "\n",
    "Next, we define the agent class.\n",
    "The agent class constructor has the following arguments: `description`,\n",
    "`client`, `assistant_id`, `thread_id`, and `assistant_event_handler_factory`.\n",
    "The `client` argument is the OpenAI async client object, and the\n",
    "`assistant_event_handler_factory` is for creating an assistant event handler\n",
    "to handle OpenAI Assistant events.\n",
    "This can be used to create streaming output from the assistant.\n",
    "\n",
    "The agent class has the following message handlers:\n",
    "- `handle_message`: Handles the `TextMessage` message type, and sends back the\n",
    "  response from the assistant.\n",
    "- `handle_reset`: Handles the `Reset` message type, and resets the memory\n",
    "    of the assistant agent.\n",
    "- `handle_upload_for_code_interpreter`: Handles the `UploadForCodeInterpreter`\n",
    "  message type, and uploads the file to the code interpreter.\n",
    "- `handle_upload_for_file_search`: Handles the `UploadForFileSearch`\n",
    "    message type, and uploads the document to the file search.\n",
    "\n",
    "\n",
    "The memory of the assistant is stored inside a thread, which is kept in the\n",
    "server side. The thread is referenced by the `thread_id` argument.\n"
   ]
  }
 ],
 "metadata": {
  "language_info": {
   "name": "python"
  }
 },
 "nbformat": 4,
 "nbformat_minor": 2
}
